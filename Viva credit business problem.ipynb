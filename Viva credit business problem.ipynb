{
 "cells": [
  {
   "cell_type": "code",
   "execution_count": 205,
   "metadata": {
    "scrolled": true
   },
   "outputs": [],
   "source": [
    "import pandas as pd\n",
    "import numpy as np\n",
    "import matplotlib.pyplot as plt\n",
    "\n",
    "\n",
    "import keras\n",
    "from keras import models\n",
    "from keras.models import Sequential\n",
    "from keras.layers import Dense, Activation\n",
    "\n",
    "from sklearn.model_selection import train_test_split\n",
    "from sklearn.preprocessing import StandardScaler\n",
    "from sklearn.metrics import confusion_matrix, f1_score, roc_auc_score"
   ]
  },
  {
   "cell_type": "code",
   "execution_count": 206,
   "metadata": {
    "scrolled": true
   },
   "outputs": [],
   "source": [
    "dataset = pd.read_csv(r\"C:\\Users\\CEA\\Documents\\Python Scripts\\default.csv\")"
   ]
  },
  {
   "cell_type": "code",
   "execution_count": 207,
   "metadata": {
    "scrolled": true
   },
   "outputs": [
    {
     "data": {
      "text/html": [
       "<div>\n",
       "<style scoped>\n",
       "    .dataframe tbody tr th:only-of-type {\n",
       "        vertical-align: middle;\n",
       "    }\n",
       "\n",
       "    .dataframe tbody tr th {\n",
       "        vertical-align: top;\n",
       "    }\n",
       "\n",
       "    .dataframe thead th {\n",
       "        text-align: right;\n",
       "    }\n",
       "</style>\n",
       "<table border=\"1\" class=\"dataframe\">\n",
       "  <thead>\n",
       "    <tr style=\"text-align: right;\">\n",
       "      <th></th>\n",
       "      <th>ID</th>\n",
       "      <th>LIMIT_BAL</th>\n",
       "      <th>SEX</th>\n",
       "      <th>EDUCATION</th>\n",
       "      <th>MARRIAGE</th>\n",
       "      <th>AGE</th>\n",
       "      <th>PAY_0</th>\n",
       "      <th>PAY_2</th>\n",
       "      <th>PAY_3</th>\n",
       "      <th>PAY_4</th>\n",
       "      <th>...</th>\n",
       "      <th>BILL_AMT4</th>\n",
       "      <th>BILL_AMT5</th>\n",
       "      <th>BILL_AMT6</th>\n",
       "      <th>PAY_AMT1</th>\n",
       "      <th>PAY_AMT2</th>\n",
       "      <th>PAY_AMT3</th>\n",
       "      <th>PAY_AMT4</th>\n",
       "      <th>PAY_AMT5</th>\n",
       "      <th>PAY_AMT6</th>\n",
       "      <th>default payment next month</th>\n",
       "    </tr>\n",
       "  </thead>\n",
       "  <tbody>\n",
       "    <tr>\n",
       "      <th>0</th>\n",
       "      <td>1</td>\n",
       "      <td>20000</td>\n",
       "      <td>2</td>\n",
       "      <td>2</td>\n",
       "      <td>1</td>\n",
       "      <td>24</td>\n",
       "      <td>2</td>\n",
       "      <td>2</td>\n",
       "      <td>-1</td>\n",
       "      <td>-1</td>\n",
       "      <td>...</td>\n",
       "      <td>0</td>\n",
       "      <td>0</td>\n",
       "      <td>0</td>\n",
       "      <td>0</td>\n",
       "      <td>689</td>\n",
       "      <td>0</td>\n",
       "      <td>0</td>\n",
       "      <td>0</td>\n",
       "      <td>0</td>\n",
       "      <td>1</td>\n",
       "    </tr>\n",
       "    <tr>\n",
       "      <th>1</th>\n",
       "      <td>2</td>\n",
       "      <td>120000</td>\n",
       "      <td>2</td>\n",
       "      <td>2</td>\n",
       "      <td>2</td>\n",
       "      <td>26</td>\n",
       "      <td>-1</td>\n",
       "      <td>2</td>\n",
       "      <td>0</td>\n",
       "      <td>0</td>\n",
       "      <td>...</td>\n",
       "      <td>3272</td>\n",
       "      <td>3455</td>\n",
       "      <td>3261</td>\n",
       "      <td>0</td>\n",
       "      <td>1000</td>\n",
       "      <td>1000</td>\n",
       "      <td>1000</td>\n",
       "      <td>0</td>\n",
       "      <td>2000</td>\n",
       "      <td>1</td>\n",
       "    </tr>\n",
       "    <tr>\n",
       "      <th>2</th>\n",
       "      <td>3</td>\n",
       "      <td>90000</td>\n",
       "      <td>2</td>\n",
       "      <td>2</td>\n",
       "      <td>2</td>\n",
       "      <td>34</td>\n",
       "      <td>0</td>\n",
       "      <td>0</td>\n",
       "      <td>0</td>\n",
       "      <td>0</td>\n",
       "      <td>...</td>\n",
       "      <td>14331</td>\n",
       "      <td>14948</td>\n",
       "      <td>15549</td>\n",
       "      <td>1518</td>\n",
       "      <td>1500</td>\n",
       "      <td>1000</td>\n",
       "      <td>1000</td>\n",
       "      <td>1000</td>\n",
       "      <td>5000</td>\n",
       "      <td>0</td>\n",
       "    </tr>\n",
       "    <tr>\n",
       "      <th>3</th>\n",
       "      <td>4</td>\n",
       "      <td>50000</td>\n",
       "      <td>2</td>\n",
       "      <td>2</td>\n",
       "      <td>1</td>\n",
       "      <td>37</td>\n",
       "      <td>0</td>\n",
       "      <td>0</td>\n",
       "      <td>0</td>\n",
       "      <td>0</td>\n",
       "      <td>...</td>\n",
       "      <td>28314</td>\n",
       "      <td>28959</td>\n",
       "      <td>29547</td>\n",
       "      <td>2000</td>\n",
       "      <td>2019</td>\n",
       "      <td>1200</td>\n",
       "      <td>1100</td>\n",
       "      <td>1069</td>\n",
       "      <td>1000</td>\n",
       "      <td>0</td>\n",
       "    </tr>\n",
       "    <tr>\n",
       "      <th>4</th>\n",
       "      <td>5</td>\n",
       "      <td>50000</td>\n",
       "      <td>1</td>\n",
       "      <td>2</td>\n",
       "      <td>1</td>\n",
       "      <td>57</td>\n",
       "      <td>-1</td>\n",
       "      <td>0</td>\n",
       "      <td>-1</td>\n",
       "      <td>0</td>\n",
       "      <td>...</td>\n",
       "      <td>20940</td>\n",
       "      <td>19146</td>\n",
       "      <td>19131</td>\n",
       "      <td>2000</td>\n",
       "      <td>36681</td>\n",
       "      <td>10000</td>\n",
       "      <td>9000</td>\n",
       "      <td>689</td>\n",
       "      <td>679</td>\n",
       "      <td>0</td>\n",
       "    </tr>\n",
       "  </tbody>\n",
       "</table>\n",
       "<p>5 rows × 25 columns</p>\n",
       "</div>"
      ],
      "text/plain": [
       "   ID  LIMIT_BAL  SEX  EDUCATION  MARRIAGE  AGE  PAY_0  PAY_2  PAY_3  PAY_4  \\\n",
       "0   1      20000    2          2         1   24      2      2     -1     -1   \n",
       "1   2     120000    2          2         2   26     -1      2      0      0   \n",
       "2   3      90000    2          2         2   34      0      0      0      0   \n",
       "3   4      50000    2          2         1   37      0      0      0      0   \n",
       "4   5      50000    1          2         1   57     -1      0     -1      0   \n",
       "\n",
       "   ...  BILL_AMT4  BILL_AMT5  BILL_AMT6  PAY_AMT1  PAY_AMT2  PAY_AMT3  \\\n",
       "0  ...          0          0          0         0       689         0   \n",
       "1  ...       3272       3455       3261         0      1000      1000   \n",
       "2  ...      14331      14948      15549      1518      1500      1000   \n",
       "3  ...      28314      28959      29547      2000      2019      1200   \n",
       "4  ...      20940      19146      19131      2000     36681     10000   \n",
       "\n",
       "   PAY_AMT4  PAY_AMT5  PAY_AMT6  default payment next month  \n",
       "0         0         0         0                           1  \n",
       "1      1000         0      2000                           1  \n",
       "2      1000      1000      5000                           0  \n",
       "3      1100      1069      1000                           0  \n",
       "4      9000       689       679                           0  \n",
       "\n",
       "[5 rows x 25 columns]"
      ]
     },
     "execution_count": 207,
     "metadata": {},
     "output_type": "execute_result"
    }
   ],
   "source": [
    "dataset.head()"
   ]
  },
  {
   "cell_type": "code",
   "execution_count": 208,
   "metadata": {
    "scrolled": true
   },
   "outputs": [],
   "source": [
    "target = dataset['default payment next month']\n",
    "data = dataset.drop(['ID','default payment next month'], axis=1)"
   ]
  },
  {
   "cell_type": "code",
   "execution_count": 209,
   "metadata": {
    "scrolled": true
   },
   "outputs": [
    {
     "name": "stdout",
     "output_type": "stream",
     "text": [
      "target shape =  (30000,)\n",
      "data shape =  (30000, 23)\n",
      "dataset shape =  (30000, 25)\n"
     ]
    }
   ],
   "source": [
    "print('target shape = ', target.shape)\n",
    "print('data shape = ', data.shape)\n",
    "print('dataset shape = ', dataset.shape)"
   ]
  },
  {
   "cell_type": "code",
   "execution_count": 210,
   "metadata": {
    "scrolled": true
   },
   "outputs": [
    {
     "data": {
      "text/plain": [
       "LIMIT_BAL    0\n",
       "SEX          0\n",
       "EDUCATION    0\n",
       "MARRIAGE     0\n",
       "AGE          0\n",
       "PAY_0        0\n",
       "PAY_2        0\n",
       "PAY_3        0\n",
       "PAY_4        0\n",
       "PAY_5        0\n",
       "PAY_6        0\n",
       "BILL_AMT1    0\n",
       "BILL_AMT2    0\n",
       "BILL_AMT3    0\n",
       "BILL_AMT4    0\n",
       "BILL_AMT5    0\n",
       "BILL_AMT6    0\n",
       "PAY_AMT1     0\n",
       "PAY_AMT2     0\n",
       "PAY_AMT3     0\n",
       "PAY_AMT4     0\n",
       "PAY_AMT5     0\n",
       "PAY_AMT6     0\n",
       "dtype: int64"
      ]
     },
     "execution_count": 210,
     "metadata": {},
     "output_type": "execute_result"
    }
   ],
   "source": [
    "data.isnull().sum()"
   ]
  },
  {
   "cell_type": "code",
   "execution_count": 211,
   "metadata": {
    "scrolled": true
   },
   "outputs": [
    {
     "data": {
      "text/plain": [
       "0"
      ]
     },
     "execution_count": 211,
     "metadata": {},
     "output_type": "execute_result"
    }
   ],
   "source": [
    "pd.isnull(target).sum()"
   ]
  },
  {
   "cell_type": "code",
   "execution_count": 212,
   "metadata": {
    "scrolled": true
   },
   "outputs": [
    {
     "data": {
      "text/plain": [
       "0        1\n",
       "1        1\n",
       "2        0\n",
       "3        0\n",
       "4        0\n",
       "        ..\n",
       "29995    0\n",
       "29996    0\n",
       "29997    1\n",
       "29998    1\n",
       "29999    1\n",
       "Name: default payment next month, Length: 30000, dtype: int64"
      ]
     },
     "execution_count": 212,
     "metadata": {},
     "output_type": "execute_result"
    }
   ],
   "source": [
    "target"
   ]
  },
  {
   "cell_type": "code",
   "execution_count": 213,
   "metadata": {
    "scrolled": true
   },
   "outputs": [
    {
     "data": {
      "text/plain": [
       "LIMIT_BAL    int64\n",
       "SEX          int64\n",
       "EDUCATION    int64\n",
       "MARRIAGE     int64\n",
       "AGE          int64\n",
       "PAY_0        int64\n",
       "PAY_2        int64\n",
       "PAY_3        int64\n",
       "PAY_4        int64\n",
       "PAY_5        int64\n",
       "PAY_6        int64\n",
       "BILL_AMT1    int64\n",
       "BILL_AMT2    int64\n",
       "BILL_AMT3    int64\n",
       "BILL_AMT4    int64\n",
       "BILL_AMT5    int64\n",
       "BILL_AMT6    int64\n",
       "PAY_AMT1     int64\n",
       "PAY_AMT2     int64\n",
       "PAY_AMT3     int64\n",
       "PAY_AMT4     int64\n",
       "PAY_AMT5     int64\n",
       "PAY_AMT6     int64\n",
       "dtype: object"
      ]
     },
     "execution_count": 213,
     "metadata": {},
     "output_type": "execute_result"
    }
   ],
   "source": [
    "data.dtypes"
   ]
  },
  {
   "cell_type": "code",
   "execution_count": 214,
   "metadata": {
    "scrolled": true
   },
   "outputs": [],
   "source": [
    "xtrain, xtest, ytrain, ytest= train_test_split(data, target, train_size = 0.8, random_state=2)\n",
    "x_train, x_val, y_train, y_val= train_test_split(xtrain,ytrain, train_size= 0.8, random_state=2)\n"
   ]
  },
  {
   "cell_type": "code",
   "execution_count": 215,
   "metadata": {
    "scrolled": true
   },
   "outputs": [
    {
     "name": "stdout",
     "output_type": "stream",
     "text": [
      "train size (19200, 23) (19200,)\n",
      "val size (4800, 23) (4800,)\n",
      "test size (6000, 23) (6000,)\n"
     ]
    }
   ],
   "source": [
    "print('train size', x_train.shape, y_train.shape)\n",
    "print('val size', x_val.shape, y_val.shape)\n",
    "print('test size', xtest.shape, ytest.shape)"
   ]
  },
  {
   "cell_type": "code",
   "execution_count": 216,
   "metadata": {
    "scrolled": true
   },
   "outputs": [],
   "source": [
    "scalar= StandardScaler().fit(x_train)\n",
    "x_train_scaled= scalar.transform(x_train)\n",
    "xtest_scaled = scalar.transform(xtest)\n",
    "x_val_scaled = scalar.transform(x_val)"
   ]
  },
  {
   "cell_type": "code",
   "execution_count": 217,
   "metadata": {
    "scrolled": true
   },
   "outputs": [],
   "source": [
    "# defining a function for deep neural network\n",
    "def seqmodel (arr):\n",
    "    model = Sequential()\n",
    "    for i in range(len(arr)):\n",
    "        if i!=0 and i!= len(arr)-1:\n",
    "            if i==1:\n",
    "                model.add(Dense(arr[i], input_dim= arr[0], activation='relu'))\n",
    "            else:\n",
    "                model.add(Dense(arr[i], activation='relu'))\n",
    "    model.add(Dense(arr[-1], activation = 'sigmoid'))\n",
    "    model.compile(loss='binary_crossentropy',optimizer='rmsprop',metrics=['accuracy'])\n",
    "    return model"
   ]
  },
  {
   "cell_type": "code",
   "execution_count": null,
   "metadata": {
    "scrolled": true
   },
   "outputs": [],
   "source": []
  },
  {
   "cell_type": "code",
   "execution_count": 218,
   "metadata": {
    "scrolled": true
   },
   "outputs": [],
   "source": [
    "# defining a function for model evaluation\n",
    "\n",
    "def eval_model(model,XTRAIN,YTRAIN,XVAL,YVAL,XTEST,YTEST):\n",
    "    history = model.fit(np.array(XTRAIN),np.array(YTRAIN), epochs=40, validation_data= (XVAL, YVAL), verbose=0)\n",
    "    \n",
    "    plt.plot(history.history['accuracy'])\n",
    "    plt.plot(history.history['val_accuracy'])\n",
    "    plt.title('model accuracy')\n",
    "    plt.ylabel('accuracy')\n",
    "    plt.xlabel('epoch')\n",
    "    plt.legend(['train', 'validation'], loc='upper left')\n",
    "    plt.show()\n",
    "    \n",
    "    print('\\n loss validation dataset', history.history['val_loss'])\n",
    "    print('\\n Accuracy validation dataset', history.history['val_accuracy'])\n",
    "    \n",
    "    predY= model.predict(np.array(XTEST))\n",
    "    predY=np.round(predY).astype(int).reshape(1,-1)[0]\n",
    "    m= confusion_matrix(predY, YTEST)\n",
    "    tn,fn,fp,tp = m.ravel()\n",
    "    m= pd.crosstab(predY,YTEST)\n",
    "    print('\\n Tabular data evaluation (confussion matrix)')\n",
    "    print(m)\n",
    "    \n",
    "    sens=tp/(tp+fn)\n",
    "    spec=tn/(tn+fp)\n",
    "    prec=tp/(tp+fp)\n",
    "    acc=(tp+tn)/(tp+tn+fp+fn)\n",
    "    f1=f1_score(YTEST,predY)\n",
    "    auc=roc_auc_score(YTEST,predY)\n",
    "    print(\"\\nModel Validation\")\n",
    "    print(\"Senstivity : \",sens)\n",
    "    print(\"Specificity : \",spec)\n",
    "    print(\"Precision : \",prec)\n",
    "    print(\"Accuracy : \",acc)\n",
    "    print(\"F1 score : \",f1)\n",
    "    print(\"AUC : \",auc)\n"
   ]
  },
  {
   "cell_type": "code",
   "execution_count": 219,
   "metadata": {
    "scrolled": true
   },
   "outputs": [],
   "source": [
    "model_one = seqmodel([23,30,20,1])"
   ]
  },
  {
   "cell_type": "code",
   "execution_count": 220,
   "metadata": {
    "scrolled": false
   },
   "outputs": [
    {
     "data": {
      "image/png": "[encoded data removed]",
      "text/plain": [
       "<Figure size 432x288 with 1 Axes>"
      ]
     },
     "metadata": {
      "needs_background": "light"
     },
     "output_type": "display_data"
    },
    {
     "name": "stdout",
     "output_type": "stream",
     "text": [
      "\n",
      " loss validation dataset [0.4547910690307617, 0.4491249620914459, 0.448632150888443, 0.44360238313674927, 0.4423615038394928, 0.4461272060871124, 0.44540563225746155, 0.446768581867218, 0.44402867555618286, 0.4416678249835968, 0.44291937351226807, 0.44342100620269775, 0.44193190336227417, 0.446022629737854, 0.44727396965026855, 0.44353199005126953, 0.44381964206695557, 0.43964290618896484, 0.4434336721897125, 0.4397819936275482, 0.44044244289398193, 0.4415038526058197, 0.4409286081790924, 0.44169026613235474, 0.44149526953697205, 0.4430086314678192, 0.4421119689941406, 0.4420204758644104, 0.4417388439178467, 0.44149285554885864, 0.4451265335083008, 0.44764918088912964, 0.4392649233341217, 0.4428790807723999, 0.4400498867034912, 0.4414067566394806, 0.44329696893692017, 0.44151926040649414, 0.4470026195049286, 0.44435715675354004]\n",
      "\n",
      " Accuracy validation dataset [0.8164583444595337, 0.8206250071525574, 0.8181250095367432, 0.8177083134651184, 0.8162500262260437, 0.8168749809265137, 0.8160416483879089, 0.8172916769981384, 0.8174999952316284, 0.8168749809265137, 0.8185416460037231, 0.8174999952316284, 0.8147916793823242, 0.8141666650772095, 0.8145833611488342, 0.8145833611488342, 0.8152083158493042, 0.8152083158493042, 0.8139583468437195, 0.8152083158493042, 0.8152083158493042, 0.8139583468437195, 0.8141666650772095, 0.8135416507720947, 0.8145833611488342, 0.8137500286102295, 0.8139583468437195, 0.8143749833106995, 0.8149999976158142, 0.8149999976158142, 0.8106250166893005, 0.8152083158493042, 0.8152083158493042, 0.8145833611488342, 0.815625011920929, 0.8143749833106995, 0.815416693687439, 0.815625011920929, 0.8183333277702332, 0.81270831823349]\n",
      "\n",
      " Tabular data evaluation (confussion matrix)\n",
      "default payment next month     0    1\n",
      "row_0                                \n",
      "0                           4357  780\n",
      "1                            308  555\n",
      "\n",
      "Model Validation\n",
      "Senstivity :  0.4157303370786517\n",
      "Specificity :  0.9339764201500536\n",
      "Precision :  0.6431054461181923\n",
      "Accuracy :  0.8186666666666667\n",
      "F1 score :  0.5050045495905369\n",
      "AUC :  0.6748533786143526\n"
     ]
    }
   ],
   "source": [
    "eval_model(model_one,x_train_scaled,y_train,x_val_scaled,y_val,xtest_scaled,ytest)"
   ]
  },
  {
   "cell_type": "code",
   "execution_count": 221,
   "metadata": {
    "scrolled": true
   },
   "outputs": [
    {
     "data": {
      "image/png": "[encoded data removed]",
      "text/plain": [
       "<Figure size 432x288 with 1 Axes>"
      ]
     },
     "metadata": {
      "needs_background": "light"
     },
     "output_type": "display_data"
    },
    {
     "name": "stdout",
     "output_type": "stream",
     "text": [
      "\n",
      " loss validation dataset [0.45544198155403137, 0.44907012581825256, 0.4473734498023987, 0.44766587018966675, 0.4509925842285156, 0.44589629769325256, 0.4431503713130951, 0.44327789545059204, 0.44140151143074036, 0.44205617904663086, 0.44369593262672424, 0.44472426176071167, 0.4436069130897522, 0.4424518346786499, 0.4437268078327179, 0.4450915455818176, 0.4432372450828552, 0.44649478793144226, 0.44795867800712585, 0.4450685679912567, 0.44510728120803833, 0.44409796595573425, 0.449470579624176, 0.4558938145637512, 0.4470142126083374, 0.45129817724227905, 0.4520103335380554, 0.4496757388114929, 0.4518948793411255, 0.44848698377609253, 0.4514937400817871, 0.4515748620033264, 0.4523789882659912, 0.45830681920051575, 0.4589499533176422, 0.46142110228538513, 0.45921629667282104, 0.4615024924278259, 0.45832595229148865, 0.4610140025615692]\n",
      "\n",
      " Accuracy validation dataset [0.81229168176651, 0.8191666603088379, 0.8160416483879089, 0.8137500286102295, 0.8152083158493042, 0.8179166913032532, 0.815416693687439, 0.8147916793823242, 0.815625011920929, 0.8131250143051147, 0.8160416483879089, 0.8120833039283752, 0.8145833611488342, 0.8143749833106995, 0.815625011920929, 0.8112499713897705, 0.8131250143051147, 0.8137500286102295, 0.8168749809265137, 0.815416693687439, 0.81270831823349, 0.8145833611488342, 0.809374988079071, 0.8135416507720947, 0.8145833611488342, 0.8145833611488342, 0.8110416531562805, 0.8081250190734863, 0.8145833611488342, 0.8100000023841858, 0.8116666674613953, 0.81270831823349, 0.81270831823349, 0.8129166960716248, 0.8102083206176758, 0.8100000023841858, 0.8102083206176758, 0.8077083230018616, 0.8077083230018616, 0.8077083230018616]\n",
      "\n",
      " Tabular data evaluation (confussion matrix)\n",
      "default payment next month     0    1\n",
      "row_0                                \n",
      "0                           4345  820\n",
      "1                            320  515\n",
      "\n",
      "Model Validation\n",
      "Senstivity :  0.3857677902621723\n",
      "Specificity :  0.9314040728831725\n",
      "Precision :  0.6167664670658682\n",
      "Accuracy :  0.81\n",
      "F1 score :  0.47465437788018433\n",
      "AUC :  0.6585859315726723\n"
     ]
    }
   ],
   "source": [
    "model_two = seqmodel([23,50,30,20,1])\n",
    "eval_model(model_two,x_train_scaled,y_train,x_val_scaled,y_val,xtest_scaled,ytest)"
   ]
  },
  {
   "cell_type": "code",
   "execution_count": 222,
   "metadata": {
    "scrolled": false
   },
   "outputs": [
    {
     "data": {
      "image/png": "[encoded data removed]",
      "text/plain": [
       "<Figure size 432x288 with 1 Axes>"
      ]
     },
     "metadata": {
      "needs_background": "light"
     },
     "output_type": "display_data"
    },
    {
     "name": "stdout",
     "output_type": "stream",
     "text": [
      "\n",
      " loss validation dataset [0.4572426974773407, 0.44995981454849243, 0.449796587228775, 0.44598516821861267, 0.44642242789268494, 0.4448501169681549, 0.44299495220184326, 0.4438149631023407, 0.4456571936607361, 0.4444520175457001, 0.4447079002857208, 0.44478875398635864, 0.44482722878456116, 0.44914519786834717, 0.44645461440086365, 0.45248478651046753, 0.44677743315696716, 0.4456353783607483, 0.44648274779319763, 0.4470468759536743, 0.44919800758361816, 0.44898727536201477, 0.44810616970062256, 0.451210618019104, 0.4495643079280853, 0.44941771030426025, 0.44638413190841675, 0.4478835463523865, 0.4500178396701813, 0.4549645483493805, 0.44913700222969055, 0.44933024048805237, 0.4534495174884796, 0.4511640965938568, 0.4483938217163086, 0.45445603132247925, 0.4508146047592163, 0.4543832838535309, 0.4523375928401947, 0.4568015933036804]\n",
      "\n",
      " Accuracy validation dataset [0.8106250166893005, 0.815625011920929, 0.81229168176651, 0.8141666650772095, 0.815833330154419, 0.8164583444595337, 0.8145833611488342, 0.81229168176651, 0.8145833611488342, 0.8137500286102295, 0.8110416531562805, 0.8118749856948853, 0.8143749833106995, 0.8131250143051147, 0.8137500286102295, 0.8112499713897705, 0.81229168176651, 0.8131250143051147, 0.8129166960716248, 0.8116666674613953, 0.8131250143051147, 0.8137500286102295, 0.8118749856948853, 0.81229168176651, 0.8152083158493042, 0.8141666650772095, 0.8135416507720947, 0.8137500286102295, 0.8133333325386047, 0.81270831823349, 0.8137500286102295, 0.8139583468437195, 0.8106250166893005, 0.8114583492279053, 0.8139583468437195, 0.8135416507720947, 0.8129166960716248, 0.81270831823349, 0.8112499713897705, 0.8110416531562805]\n",
      "\n",
      " Tabular data evaluation (confussion matrix)\n",
      "default payment next month     0    1\n",
      "row_0                                \n",
      "0                           4402  838\n",
      "1                            263  497\n",
      "\n",
      "Model Validation\n",
      "Senstivity :  0.37228464419475654\n",
      "Specificity :  0.9436227224008574\n",
      "Precision :  0.6539473684210526\n",
      "Accuracy :  0.8165\n",
      "F1 score :  0.4744630071599046\n",
      "AUC :  0.6579536832978069\n"
     ]
    }
   ],
   "source": [
    "model_three = seqmodel([23,50,30,1])\n",
    "eval_model(model_three,x_train_scaled,y_train,x_val_scaled,y_val,xtest_scaled,ytest)"
   ]
  },
  {
   "cell_type": "code",
   "execution_count": 223,
   "metadata": {
    "scrolled": false
   },
   "outputs": [
    {
     "data": {
      "image/png": "[encoded data removed]",
      "text/plain": [
       "<Figure size 432x288 with 1 Axes>"
      ]
     },
     "metadata": {
      "needs_background": "light"
     },
     "output_type": "display_data"
    },
    {
     "name": "stdout",
     "output_type": "stream",
     "text": [
      "\n",
      " loss validation dataset [0.46194177865982056, 0.4519364833831787, 0.44723862409591675, 0.44601526856422424, 0.4427478015422821, 0.4431363344192505, 0.443028062582016, 0.4460190236568451, 0.4422689378261566, 0.4424837827682495, 0.44073599576950073, 0.4448930323123932, 0.4438323974609375, 0.4426748752593994, 0.44333916902542114, 0.4421243369579315, 0.4418918788433075, 0.444243460893631, 0.44255995750427246, 0.4408133327960968, 0.442332923412323, 0.44219639897346497, 0.4419894516468048, 0.44324570894241333, 0.44337132573127747, 0.4407472312450409, 0.4413629174232483, 0.4407140016555786, 0.4428749680519104, 0.4431689381599426, 0.44352421164512634, 0.441726952791214, 0.44705086946487427, 0.4418846666812897, 0.44356510043144226, 0.4456896483898163, 0.44607308506965637, 0.4459967613220215, 0.44703954458236694, 0.4466860592365265]\n",
      "\n",
      " Accuracy validation dataset [0.8120833039283752, 0.815833330154419, 0.815833330154419, 0.8162500262260437, 0.8168749809265137, 0.815416693687439, 0.8160416483879089, 0.8145833611488342, 0.8177083134651184, 0.8147916793823242, 0.8174999952316284, 0.8187500238418579, 0.8197916746139526, 0.8172916769981384, 0.8170833587646484, 0.8160416483879089, 0.8152083158493042, 0.8160416483879089, 0.8164583444595337, 0.8125, 0.8145833611488342, 0.8141666650772095, 0.8162500262260437, 0.8143749833106995, 0.8152083158493042, 0.8152083158493042, 0.81270831823349, 0.8141666650772095, 0.8129166960716248, 0.8129166960716248, 0.8120833039283752, 0.8106250166893005, 0.8112499713897705, 0.815416693687439, 0.8137500286102295, 0.81229168176651, 0.8102083206176758, 0.8097916841506958, 0.8110416531562805, 0.8106250166893005]\n",
      "\n",
      " Tabular data evaluation (confussion matrix)\n",
      "default payment next month     0    1\n",
      "row_0                                \n",
      "0                           4427  843\n",
      "1                            238  492\n",
      "\n",
      "Model Validation\n",
      "Senstivity :  0.3685393258426966\n",
      "Specificity :  0.9489817792068596\n",
      "Precision :  0.673972602739726\n",
      "Accuracy :  0.8198333333333333\n",
      "F1 score :  0.47651331719128326\n",
      "AUC :  0.6587605525247779\n"
     ]
    }
   ],
   "source": [
    "model_four = seqmodel([23,30,10,1])\n",
    "eval_model(model_four,x_train_scaled,y_train,x_val_scaled,y_val,xtest_scaled,ytest)"
   ]
  },
  {
   "cell_type": "code",
   "execution_count": 224,
   "metadata": {
    "scrolled": false
   },
   "outputs": [
    {
     "data": {
      "image/png": "[encoded data removed]",
      "text/plain": [
       "<Figure size 432x288 with 1 Axes>"
      ]
     },
     "metadata": {
      "needs_background": "light"
     },
     "output_type": "display_data"
    },
    {
     "name": "stdout",
     "output_type": "stream",
     "text": [
      "\n",
      " loss validation dataset [0.4626328945159912, 0.452088862657547, 0.4513308107852936, 0.4478289783000946, 0.44885167479515076, 0.4443669021129608, 0.4445650279521942, 0.44616830348968506, 0.44533705711364746, 0.4428730905056, 0.4486439526081085, 0.4422043263912201, 0.44306620955467224, 0.44557327032089233, 0.4426616430282593, 0.4469951391220093, 0.44262635707855225, 0.44346094131469727, 0.44388434290885925, 0.44109785556793213, 0.4417940676212311, 0.44331833720207214, 0.44255533814430237, 0.44280704855918884, 0.44204720854759216, 0.44414830207824707, 0.4436594247817993, 0.4468437731266022, 0.44610723853111267, 0.4457104504108429, 0.4490242600440979, 0.4451959729194641, 0.4508962631225586, 0.4495735764503479, 0.4483546316623688, 0.44870346784591675, 0.447653204202652, 0.4540073573589325, 0.45217305421829224, 0.4494447708129883]\n",
      "\n",
      " Accuracy validation dataset [0.8112499713897705, 0.815833330154419, 0.8139583468437195, 0.8141666650772095, 0.8125, 0.8147916793823242, 0.8114583492279053, 0.8143749833106995, 0.8125, 0.8137500286102295, 0.8118749856948853, 0.81270831823349, 0.809374988079071, 0.81270831823349, 0.8149999976158142, 0.8120833039283752, 0.8147916793823242, 0.8116666674613953, 0.81270831823349, 0.8141666650772095, 0.81270831823349, 0.8149999976158142, 0.8143749833106995, 0.815625011920929, 0.8143749833106995, 0.8135416507720947, 0.8120833039283752, 0.8106250166893005, 0.81270831823349, 0.8147916793823242, 0.8137500286102295, 0.8110416531562805, 0.809374988079071, 0.8118749856948853, 0.8114583492279053, 0.8110416531562805, 0.8116666674613953, 0.8120833039283752, 0.8133333325386047, 0.8104166388511658]\n",
      "\n",
      " Tabular data evaluation (confussion matrix)\n",
      "default payment next month     0    1\n",
      "row_0                                \n",
      "0                           4425  868\n",
      "1                            240  467\n",
      "\n",
      "Model Validation\n",
      "Senstivity :  0.349812734082397\n",
      "Specificity :  0.9485530546623794\n",
      "Precision :  0.6605374823196606\n",
      "Accuracy :  0.8153333333333334\n",
      "F1 score :  0.45739471106758084\n",
      "AUC :  0.6491828943723882\n"
     ]
    }
   ],
   "source": [
    "model_five = seqmodel([23,40,20,1])\n",
    "eval_model(model_five,x_train_scaled,y_train,x_val_scaled,y_val,xtest_scaled,ytest)"
   ]
  },
  {
   "cell_type": "code",
   "execution_count": null,
   "metadata": {
    "scrolled": false
   },
   "outputs": [],
   "source": []
  }
 ],
 "metadata": {
  "kernelspec": {
   "display_name": "Python 3",
   "language": "python",
   "name": "python3"
  },
  "language_info": {
   "codemirror_mode": {
    "name": "ipython",
    "version": 3
   },
   "file_extension": ".py",
   "mimetype": "text/x-python",
   "name": "python",
   "nbconvert_exporter": "python",
   "pygments_lexer": "ipython3",
   "version": "3.7.3"
  }
 },
 "nbformat": 4,
 "nbformat_minor": 2
}
